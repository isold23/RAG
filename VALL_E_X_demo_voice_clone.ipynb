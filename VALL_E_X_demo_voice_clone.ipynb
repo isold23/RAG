{
  "nbformat": 4,
  "nbformat_minor": 0,
  "metadata": {
    "colab": {
      "provenance": [],
      "gpuType": "T4",
      "include_colab_link": true
    },
    "kernelspec": {
      "name": "python3",
      "display_name": "Python 3"
    },
    "language_info": {
      "name": "python"
    },
    "accelerator": "GPU"
  },
  "cells": [
    {
      "cell_type": "markdown",
      "metadata": {
        "id": "view-in-github",
        "colab_type": "text"
      },
      "source": [
        "<a href=\"https://colab.research.google.com/github/isold23/RAG/blob/main/VALL_E_X_demo_voice_clone.ipynb\" target=\"_parent\"><img src=\"https://colab.research.google.com/assets/colab-badge.svg\" alt=\"Open In Colab\"/></a>"
      ]
    },
    {
      "cell_type": "code",
      "execution_count": null,
      "metadata": {
        "id": "lU3roubi0QD1"
      },
      "outputs": [],
      "source": [
        "# This takes about 4 minutes until the UI pop up\n",
        "!git lfs install\n",
        "!git clone https://huggingface.co/spaces/Plachta/VALL-E-X\n",
        "%cd VALL-E-X\n",
        "!pip install --no-build-isolation -r requirements.txt\n",
        "!pip install gradio==3.41.2\n",
        "%run app.py"
      ]
    }
  ]
}