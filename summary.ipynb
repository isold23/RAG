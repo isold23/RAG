{
  "cells": [
    {
      "cell_type": "markdown",
      "metadata": {
        "id": "view-in-github",
        "colab_type": "text"
      },
      "source": [
        "<a href=\"https://colab.research.google.com/github/isold23/RAG/blob/main/summary.ipynb\" target=\"_parent\"><img src=\"https://colab.research.google.com/assets/colab-badge.svg\" alt=\"Open In Colab\"/></a>"
      ]
    },
    {
      "cell_type": "code",
      "execution_count": null,
      "metadata": {
        "id": "qE7tTVUp7MUF"
      },
      "outputs": [],
      "source": [
        "!pip install llama-cpp-python langchain unstructured[pdf]"
      ]
    },
    {
      "cell_type": "code",
      "execution_count": null,
      "metadata": {
        "id": "3diYOq845nlT"
      },
      "outputs": [],
      "source": [
        "from langchain.llms import LlamaCpp\n",
        "from langchain import PromptTemplate, LLMChain\n",
        "\n",
        "\n",
        "llm = LlamaCpp(\n",
        "    model_path=\"/content/drive/MyDrive/chinese-llama-2-7b.Q2_K.gguf\",\n",
        "    input={\"temperature\": 1, \"top_p\": 1},\n",
        "    n_ctx=2048,\n",
        "    verbose=True,\n",
        ")\n",
        "\n",
        "from langchain.docstore.document import Document\n",
        "from langchain.text_splitter import CharacterTextSplitter\n",
        "from langchain.chains.summarize import load_summarize_chain\n",
        "import urllib\n",
        "from time import monotonic\n",
        "\n",
        "url = \"http://www.hzdianyue.com/doc/readme.txt\"\n",
        "\n",
        "article = urllib.request.urlopen(url).read().decode(\"utf-8\")\n",
        "\n",
        "text_splitter = CharacterTextSplitter()\n",
        "texts = text_splitter.split_text(article)\n",
        "\n",
        "docs = [Document(page_content=t) for t in texts]\n",
        "\n",
        "template = \"\"\"\n",
        "SYSTEM: Você é um especialista em resumir textos.\n",
        "USER: Escreva um resumo sucinto do seguinte texto: {text}\n",
        "ASSISTANT:\n",
        "\"\"\"\n",
        "prompt = PromptTemplate(template=template, input_variables=[\"text\"])\n",
        "\n",
        "chain = LLMChain(prompt=prompt, llm=llm)\n",
        "\n",
        "chain = load_summarize_chain(llm, chain_type=\"map_reduce\")\n",
        "chain.run(docs)\n",
        "\n",
        "start_time = monotonic()\n",
        "summary = chain.run(docs)\n",
        "print(f\"Run time {monotonic() - start_time} seconds\")\n",
        "\n",
        "print(summary)\n",
        "print(len(article))\n",
        "print(len(summary))"
      ]
    }
  ],
  "metadata": {
    "accelerator": "GPU",
    "colab": {
      "gpuType": "T4",
      "provenance": [],
      "mount_file_id": "1O_8HNYzbJwXLkXBusj6oEdFNlZhr2Ufd",
      "authorship_tag": "ABX9TyNccpC3x2hiOaKmDpcfADl7",
      "include_colab_link": true
    },
    "kernelspec": {
      "display_name": "Python 3",
      "name": "python3"
    },
    "language_info": {
      "name": "python"
    }
  },
  "nbformat": 4,
  "nbformat_minor": 0
}